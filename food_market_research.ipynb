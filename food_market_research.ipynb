{
 "cells": [
  {
   "cell_type": "markdown",
   "metadata": {},
   "source": [
    "*Contexto*"
   ]
  },
  {
   "cell_type": "markdown",
   "metadata": {},
   "source": [
    "Ha surgido la idea de abrir un café operador por robots en Los Ángeles. El proyecto\n",
    "es caro, por lo que se ha llamado a un grupo de inversionistas interesados en conocer las las condiciones actuales del mercado de la restauración.\n",
    "\n",
    "Los datos proceden de fuentes abiertas sobre restaurantes en LA, almacenados en el archivo de extensión .csv rest_data_us."
   ]
  },
  {
   "cell_type": "markdown",
   "metadata": {},
   "source": [
    "Descripción de las columnas del dataframe\n",
    "- *object_name* — nombre del establecimiento\n",
    "- *chain* — establecimiento que pertenece a una cadena (TRUE/FALSE)\n",
    "- *object_type* — tipo de establecimiento\n",
    "- *address* — dirección\n",
    "- *number* — número de asientos"
   ]
  },
  {
   "cell_type": "markdown",
   "metadata": {},
   "source": [
    "*Indice de contenidos*\n",
    "\n",
    "1. [Inicialización: Importar librerías](#1.-Inicialización:-Importar-librerías)\n",
    "2. [Cargar los datos: lectura de los archivos csv](#2.-Cargar-los-datos:-lectura-de-los-archivos-csv)\n",
    "3. [Descripción y preprocesamiento de los datos](#3-descripción-y-preprocesamiento-de-los-datos)\n",
    "4. [Análisis exploratorio de datos](#2-análisis-exploratorio-de-datos)\n",
    "5. [Conclusiones](#5.-Conclusiones)"
   ]
  },
  {
   "cell_type": "markdown",
   "metadata": {},
   "source": [
    "# 1. Inicialización: Importar librerías "
   ]
  },
  {
   "cell_type": "code",
   "execution_count": 1,
   "metadata": {},
   "outputs": [],
   "source": [
    "import pandas as pd\n",
    "import numpy as np\n",
    "import seaborn as sns\n",
    "from scipy import stats as st\n",
    "from matplotlib import pyplot as plt"
   ]
  },
  {
   "cell_type": "markdown",
   "metadata": {},
   "source": [
    "# 2. Cargar los datos: lectura de los archivos csv"
   ]
  },
  {
   "cell_type": "code",
   "execution_count": 150,
   "metadata": {},
   "outputs": [],
   "source": [
    "df = pd.read_csv('/datasets/rest_data_us.csv')"
   ]
  },
  {
   "cell_type": "markdown",
   "metadata": {},
   "source": [
    "# 3. Descripción y preprocesamiento de los datos"
   ]
  },
  {
   "cell_type": "markdown",
   "metadata": {},
   "source": [
    "Se usarán los métodos info() y head(), lo que entregará un resumen dl dataframe, y dará luz sobre qué tipo de correcciones puede hacerse en él de forma inicial."
   ]
  },
  {
   "cell_type": "code",
   "execution_count": 151,
   "metadata": {},
   "outputs": [
    {
     "name": "stdout",
     "output_type": "stream",
     "text": [
      "<class 'pandas.core.frame.DataFrame'>\n",
      "RangeIndex: 9651 entries, 0 to 9650\n",
      "Data columns (total 6 columns):\n",
      " #   Column       Non-Null Count  Dtype \n",
      "---  ------       --------------  ----- \n",
      " 0   id           9651 non-null   int64 \n",
      " 1   object_name  9651 non-null   object\n",
      " 2   address      9651 non-null   object\n",
      " 3   chain        9648 non-null   object\n",
      " 4   object_type  9651 non-null   object\n",
      " 5   number       9651 non-null   int64 \n",
      "dtypes: int64(2), object(4)\n",
      "memory usage: 452.5+ KB\n"
     ]
    }
   ],
   "source": [
    "df.info()"
   ]
  },
  {
   "cell_type": "markdown",
   "metadata": {},
   "source": [
    "Se observan tres filas con datos nulos para la columna chain. Al representar solo un 0.03% del total del dataframe se eliminarán dichas filas. Además, los tipos de datos para cada columna son correctos por lo que no sufrirán modificaciones."
   ]
  },
  {
   "cell_type": "code",
   "execution_count": 152,
   "metadata": {},
   "outputs": [],
   "source": [
    "df = df.dropna()"
   ]
  },
  {
   "cell_type": "markdown",
   "metadata": {},
   "source": [
    "Se verifica si la operación ha sido exitosa."
   ]
  },
  {
   "cell_type": "code",
   "execution_count": 153,
   "metadata": {},
   "outputs": [
    {
     "data": {
      "text/plain": [
       "id             0\n",
       "object_name    0\n",
       "address        0\n",
       "chain          0\n",
       "object_type    0\n",
       "number         0\n",
       "dtype: int64"
      ]
     },
     "execution_count": 153,
     "metadata": {},
     "output_type": "execute_result"
    }
   ],
   "source": [
    "df.isnull().sum()"
   ]
  },
  {
   "cell_type": "markdown",
   "metadata": {},
   "source": [
    "Ya no existen datos nulos en el dataframe, pero ahora se verificará si no existen duplicados."
   ]
  },
  {
   "cell_type": "code",
   "execution_count": 154,
   "metadata": {},
   "outputs": [
    {
     "data": {
      "text/html": [
       "<div>\n",
       "<style scoped>\n",
       "    .dataframe tbody tr th:only-of-type {\n",
       "        vertical-align: middle;\n",
       "    }\n",
       "\n",
       "    .dataframe tbody tr th {\n",
       "        vertical-align: top;\n",
       "    }\n",
       "\n",
       "    .dataframe thead th {\n",
       "        text-align: right;\n",
       "    }\n",
       "</style>\n",
       "<table border=\"1\" class=\"dataframe\">\n",
       "  <thead>\n",
       "    <tr style=\"text-align: right;\">\n",
       "      <th></th>\n",
       "      <th>id</th>\n",
       "      <th>object_name</th>\n",
       "      <th>address</th>\n",
       "      <th>chain</th>\n",
       "      <th>object_type</th>\n",
       "      <th>number</th>\n",
       "    </tr>\n",
       "  </thead>\n",
       "  <tbody>\n",
       "  </tbody>\n",
       "</table>\n",
       "</div>"
      ],
      "text/plain": [
       "Empty DataFrame\n",
       "Columns: [id, object_name, address, chain, object_type, number]\n",
       "Index: []"
      ]
     },
     "execution_count": 154,
     "metadata": {},
     "output_type": "execute_result"
    }
   ],
   "source": [
    "duplicates = df[df.duplicated()]\n",
    "duplicates"
   ]
  },
  {
   "cell_type": "markdown",
   "metadata": {},
   "source": [
    "No se observan datos duplicados, por lo que ahora se procederá a imprimir una muestra del dataframe."
   ]
  },
  {
   "cell_type": "code",
   "execution_count": 155,
   "metadata": {},
   "outputs": [
    {
     "data": {
      "text/html": [
       "<div>\n",
       "<style scoped>\n",
       "    .dataframe tbody tr th:only-of-type {\n",
       "        vertical-align: middle;\n",
       "    }\n",
       "\n",
       "    .dataframe tbody tr th {\n",
       "        vertical-align: top;\n",
       "    }\n",
       "\n",
       "    .dataframe thead th {\n",
       "        text-align: right;\n",
       "    }\n",
       "</style>\n",
       "<table border=\"1\" class=\"dataframe\">\n",
       "  <thead>\n",
       "    <tr style=\"text-align: right;\">\n",
       "      <th></th>\n",
       "      <th>id</th>\n",
       "      <th>object_name</th>\n",
       "      <th>address</th>\n",
       "      <th>chain</th>\n",
       "      <th>object_type</th>\n",
       "      <th>number</th>\n",
       "    </tr>\n",
       "  </thead>\n",
       "  <tbody>\n",
       "    <tr>\n",
       "      <th>0</th>\n",
       "      <td>11786</td>\n",
       "      <td>HABITAT COFFEE SHOP</td>\n",
       "      <td>3708 N EAGLE ROCK BLVD</td>\n",
       "      <td>False</td>\n",
       "      <td>Cafe</td>\n",
       "      <td>26</td>\n",
       "    </tr>\n",
       "    <tr>\n",
       "      <th>1</th>\n",
       "      <td>11787</td>\n",
       "      <td>REILLY'S</td>\n",
       "      <td>100 WORLD WAY # 120</td>\n",
       "      <td>False</td>\n",
       "      <td>Restaurant</td>\n",
       "      <td>9</td>\n",
       "    </tr>\n",
       "    <tr>\n",
       "      <th>2</th>\n",
       "      <td>11788</td>\n",
       "      <td>STREET CHURROS</td>\n",
       "      <td>6801 HOLLYWOOD BLVD # 253</td>\n",
       "      <td>False</td>\n",
       "      <td>Fast Food</td>\n",
       "      <td>20</td>\n",
       "    </tr>\n",
       "    <tr>\n",
       "      <th>3</th>\n",
       "      <td>11789</td>\n",
       "      <td>TRINITI ECHO PARK</td>\n",
       "      <td>1814 W SUNSET BLVD</td>\n",
       "      <td>False</td>\n",
       "      <td>Restaurant</td>\n",
       "      <td>22</td>\n",
       "    </tr>\n",
       "    <tr>\n",
       "      <th>4</th>\n",
       "      <td>11790</td>\n",
       "      <td>POLLEN</td>\n",
       "      <td>2100 ECHO PARK AVE</td>\n",
       "      <td>False</td>\n",
       "      <td>Restaurant</td>\n",
       "      <td>20</td>\n",
       "    </tr>\n",
       "  </tbody>\n",
       "</table>\n",
       "</div>"
      ],
      "text/plain": [
       "      id          object_name                    address  chain object_type  \\\n",
       "0  11786  HABITAT COFFEE SHOP     3708 N EAGLE ROCK BLVD  False        Cafe   \n",
       "1  11787             REILLY'S        100 WORLD WAY # 120  False  Restaurant   \n",
       "2  11788       STREET CHURROS  6801 HOLLYWOOD BLVD # 253  False   Fast Food   \n",
       "3  11789    TRINITI ECHO PARK         1814 W SUNSET BLVD  False  Restaurant   \n",
       "4  11790               POLLEN         2100 ECHO PARK AVE  False  Restaurant   \n",
       "\n",
       "   number  \n",
       "0      26  \n",
       "1       9  \n",
       "2      20  \n",
       "3      22  \n",
       "4      20  "
      ]
     },
     "execution_count": 155,
     "metadata": {},
     "output_type": "execute_result"
    }
   ],
   "source": [
    "df.head()"
   ]
  },
  {
   "cell_type": "markdown",
   "metadata": {},
   "source": [
    "Se cuenta con cinco columnas que describen el nombre del servicio de restauración, su id, su dirección, su tipo, si pertenece a una cadena o no y la cantidad de asientos con las que cuenta. Conociendo esta información, se procederá con el análisis exploratorio de datos."
   ]
  },
  {
   "cell_type": "markdown",
   "metadata": {},
   "source": [
    "# 4. Análisis exploratorio de datos"
   ]
  },
  {
   "cell_type": "markdown",
   "metadata": {},
   "source": [
    "## Tipos de establecimiento"
   ]
  },
  {
   "cell_type": "markdown",
   "metadata": {},
   "source": [
    "Para comenzar el análisis, se investigará las proporciones de los distintos tipos de establecimientos."
   ]
  },
  {
   "cell_type": "code",
   "execution_count": 156,
   "metadata": {},
   "outputs": [
    {
     "data": {
      "text/plain": [
       "Restaurant    7253\n",
       "Fast Food     1066\n",
       "Cafe           435\n",
       "Pizza          319\n",
       "Bar            292\n",
       "Bakery         283\n",
       "Name: object_type, dtype: int64"
      ]
     },
     "execution_count": 156,
     "metadata": {},
     "output_type": "execute_result"
    }
   ],
   "source": [
    "establishment_type = df['object_type'].value_counts()\n",
    "establishment_type"
   ]
  },
  {
   "cell_type": "markdown",
   "metadata": {},
   "source": [
    "La tabla muestra que la mayor parte de los establecimientos son restaurantes. Para conocer a que proporción corresponde se calculará el porcentaje de cada establecimiento."
   ]
  },
  {
   "cell_type": "code",
   "execution_count": 157,
   "metadata": {},
   "outputs": [
    {
     "data": {
      "text/plain": [
       "Restaurant    75.176202\n",
       "Fast Food     11.048922\n",
       "Cafe           4.508706\n",
       "Pizza          3.306385\n",
       "Bar            3.026534\n",
       "Bakery         2.933250\n",
       "Name: object_type, dtype: float64"
      ]
     },
     "execution_count": 157,
     "metadata": {},
     "output_type": "execute_result"
    }
   ],
   "source": [
    "establishment_type_percentages = (establishment_type / len(df)) * 100\n",
    "establishment_type_percentages"
   ]
  },
  {
   "cell_type": "markdown",
   "metadata": {},
   "source": [
    "En efecto, un 75% de los establecimientos son restaurantes. Para visualizar de mejor manera la información de esta tabla se graficará su información en un gráfico circular con la librería seaborn."
   ]
  },
  {
   "cell_type": "code",
   "execution_count": 159,
   "metadata": {},
   "outputs": [
    {
     "data": {
      "image/png": "[encoded data removed]",
      "text/plain": [
       "<Figure size 432x432 with 1 Axes>"
      ]
     },
     "metadata": {},
     "output_type": "display_data"
    }
   ],
   "source": [
    "plt.figure(figsize=(6, 6)) \n",
    "plt.pie(establishment_type_percentages, labels=establishment_type_percentages.index, autopct='%1.1f%%')\n",
    "plt.title(\"Distribución de los tipos de establecimiento\")\n",
    "plt.axis('equal')  \n",
    "plt.show()"
   ]
  },
  {
   "cell_type": "markdown",
   "metadata": {},
   "source": [
    "## Análisis de cadenas"
   ]
  },
  {
   "cell_type": "markdown",
   "metadata": {},
   "source": [
    "Ahora que se sabe que el gran porcentaje de los establecimientos son restaurantes, el foco estará puesto en las cadenas, averiguando que proporciones de los establecimientos pertenecen a una, a qué tipo de establecimiento suelen corresponder y qué las caracteriza."
   ]
  },
  {
   "cell_type": "markdown",
   "metadata": {},
   "source": [
    "### Proporción de establecimientos que pertenecen a una cadena"
   ]
  },
  {
   "cell_type": "markdown",
   "metadata": {},
   "source": [
    "Primero se contarán cuántos establecimientos corresponden a cadenas con el método value_counts()."
   ]
  },
  {
   "cell_type": "code",
   "execution_count": 161,
   "metadata": {},
   "outputs": [
    {
     "data": {
      "text/plain": [
       "False    5972\n",
       "True     3676\n",
       "Name: chain, dtype: int64"
      ]
     },
     "execution_count": 161,
     "metadata": {},
     "output_type": "execute_result"
    }
   ],
   "source": [
    "is_a_chain = df['chain'].value_counts()\n",
    "is_a_chain"
   ]
  },
  {
   "cell_type": "markdown",
   "metadata": {},
   "source": [
    "La mayor parte de los establecimientos no son cadenas, sin embargo, una proporción importante si pertenece a cadenas. El porcentaje que representa cada uno será calculado a continuación."
   ]
  },
  {
   "cell_type": "code",
   "execution_count": 162,
   "metadata": {},
   "outputs": [
    {
     "data": {
      "text/plain": [
       "False    61.898839\n",
       "True     38.101161\n",
       "Name: chain, dtype: float64"
      ]
     },
     "execution_count": 162,
     "metadata": {},
     "output_type": "execute_result"
    }
   ],
   "source": [
    "chain_percentages = (is_a_chain/ len(df)) * 100\n",
    "chain_percentages"
   ]
  },
  {
   "cell_type": "markdown",
   "metadata": {},
   "source": [
    "Un 38% de los establecimientos son cadenas. Para que sea más fácil de visualizarlo, se trazará un gráfico circular."
   ]
  },
  {
   "cell_type": "code",
   "execution_count": 164,
   "metadata": {},
   "outputs": [
    {
     "data": {
      "image/png": "[encoded data removed]",
      "text/plain": [
       "<Figure size 432x432 with 1 Axes>"
      ]
     },
     "metadata": {},
     "output_type": "display_data"
    }
   ],
   "source": [
    "plt.figure(figsize=(6, 6)) \n",
    "plt.pie(chain_percentages, labels=chain_percentages.index, autopct='%1.1f%%')\n",
    "plt.title(\"Distribución de los tipos de establecimiento, según si son una cadena o no\")\n",
    "plt.axis('equal')  \n",
    "plt.show()"
   ]
  },
  {
   "cell_type": "markdown",
   "metadata": {},
   "source": [
    "Ahora que es conocida la proporción de cadena, la pregunta a responder es a qué tipo de establecimiento corresponden. Para esto, se creará una tabla dinamica que de cuenta a qué tipo de establecimiento corresponden dichas cadenas."
   ]
  },
  {
   "cell_type": "code",
   "execution_count": 165,
   "metadata": {
    "scrolled": true
   },
   "outputs": [
    {
     "data": {
      "text/html": [
       "<div>\n",
       "<style scoped>\n",
       "    .dataframe tbody tr th:only-of-type {\n",
       "        vertical-align: middle;\n",
       "    }\n",
       "\n",
       "    .dataframe tbody tr th {\n",
       "        vertical-align: top;\n",
       "    }\n",
       "\n",
       "    .dataframe thead th {\n",
       "        text-align: right;\n",
       "    }\n",
       "</style>\n",
       "<table border=\"1\" class=\"dataframe\">\n",
       "  <thead>\n",
       "    <tr style=\"text-align: right;\">\n",
       "      <th></th>\n",
       "      <th></th>\n",
       "      <th>id</th>\n",
       "    </tr>\n",
       "    <tr>\n",
       "      <th>chain</th>\n",
       "      <th>object_type</th>\n",
       "      <th></th>\n",
       "    </tr>\n",
       "  </thead>\n",
       "  <tbody>\n",
       "    <tr>\n",
       "      <th rowspan=\"5\" valign=\"top\">False</th>\n",
       "      <th>Bar</th>\n",
       "      <td>215</td>\n",
       "    </tr>\n",
       "    <tr>\n",
       "      <th>Cafe</th>\n",
       "      <td>169</td>\n",
       "    </tr>\n",
       "    <tr>\n",
       "      <th>Fast Food</th>\n",
       "      <td>461</td>\n",
       "    </tr>\n",
       "    <tr>\n",
       "      <th>Pizza</th>\n",
       "      <td>166</td>\n",
       "    </tr>\n",
       "    <tr>\n",
       "      <th>Restaurant</th>\n",
       "      <td>4961</td>\n",
       "    </tr>\n",
       "    <tr>\n",
       "      <th rowspan=\"6\" valign=\"top\">True</th>\n",
       "      <th>Bakery</th>\n",
       "      <td>283</td>\n",
       "    </tr>\n",
       "    <tr>\n",
       "      <th>Bar</th>\n",
       "      <td>77</td>\n",
       "    </tr>\n",
       "    <tr>\n",
       "      <th>Cafe</th>\n",
       "      <td>266</td>\n",
       "    </tr>\n",
       "    <tr>\n",
       "      <th>Fast Food</th>\n",
       "      <td>605</td>\n",
       "    </tr>\n",
       "    <tr>\n",
       "      <th>Pizza</th>\n",
       "      <td>153</td>\n",
       "    </tr>\n",
       "    <tr>\n",
       "      <th>Restaurant</th>\n",
       "      <td>2292</td>\n",
       "    </tr>\n",
       "  </tbody>\n",
       "</table>\n",
       "</div>"
      ],
      "text/plain": [
       "                     id\n",
       "chain object_type      \n",
       "False Bar           215\n",
       "      Cafe          169\n",
       "      Fast Food     461\n",
       "      Pizza         166\n",
       "      Restaurant   4961\n",
       "True  Bakery        283\n",
       "      Bar            77\n",
       "      Cafe          266\n",
       "      Fast Food     605\n",
       "      Pizza         153\n",
       "      Restaurant   2292"
      ]
     },
     "execution_count": 165,
     "metadata": {},
     "output_type": "execute_result"
    }
   ],
   "source": [
    "chain_pivot = df[['chain','object_type','id']]\n",
    "chain_pivot = pd.pivot_table(chain_pivot,index=['chain','object_type'],values='id',aggfunc='count')\n",
    "chain_pivot"
   ]
  },
  {
   "cell_type": "markdown",
   "metadata": {},
   "source": [
    "La información que nos interesa es aquella de las cadenas, por lo que se filtrará el dataframe bajo esa condición para crear un gráfico circular que ilustre como se distribuyen los establecimientos cuando corresponden a cadenas."
   ]
  },
  {
   "cell_type": "code",
   "execution_count": 166,
   "metadata": {},
   "outputs": [
    {
     "data": {
      "image/png": "[encoded data removed]",
      "text/plain": [
       "<Figure size 432x432 with 1 Axes>"
      ]
     },
     "metadata": {},
     "output_type": "display_data"
    }
   ],
   "source": [
    "chain_pivot = chain_pivot.query('chain == True')\n",
    "\n",
    "chain_pivot = chain_pivot.reset_index()\n",
    "\n",
    "plt.figure(figsize=(6, 6))\n",
    "plt.pie(chain_pivot['id'], labels=chain_pivot['object_type'], autopct='%1.1f%%', startangle=90, counterclock=False)\n",
    "plt.title(\"Distribución del tipo de establecimiento cuando son parte de una cadena\")\n",
    "\n",
    "plt.show()"
   ]
  },
  {
   "cell_type": "markdown",
   "metadata": {},
   "source": [
    "El gráfico muestra que un 62.4% de los establecimientos que pertenecen a cadenas son restaurantes, seguidos por cadenas de comida rápido y pastelerías."
   ]
  },
  {
   "cell_type": "markdown",
   "metadata": {},
   "source": [
    "### Cantidad de asientos en las cadenas"
   ]
  },
  {
   "cell_type": "markdown",
   "metadata": {},
   "source": [
    "Para caracterizar a las cadenas, se usará como referencia el número de asientos. Primero se obtendrán estadísticas descriptivas sobre el número de asientos para todos los tipos de cadenas. "
   ]
  },
  {
   "cell_type": "code",
   "execution_count": 167,
   "metadata": {},
   "outputs": [
    {
     "data": {
      "text/plain": [
       "count    3676.000000\n",
       "mean       39.694233\n",
       "std        43.437212\n",
       "min         1.000000\n",
       "25%        13.000000\n",
       "50%        25.000000\n",
       "75%        44.000000\n",
       "max       229.000000\n",
       "Name: number, dtype: float64"
      ]
     },
     "execution_count": 167,
     "metadata": {},
     "output_type": "execute_result"
    }
   ],
   "source": [
    "is_chain_seat_num = df[df['chain'] == True]['number']\n",
    "is_chain_seat_num.describe()"
   ]
  },
  {
   "cell_type": "markdown",
   "metadata": {},
   "source": [
    "La media en generall está en 39.69 asientos, con un máximo de 229 asientos, y un mínimo de un asiento."
   ]
  },
  {
   "cell_type": "markdown",
   "metadata": {},
   "source": [
    "Ahora se calculará la media de los asientos según el tipo de establecimiento."
   ]
  },
  {
   "cell_type": "code",
   "execution_count": 168,
   "metadata": {},
   "outputs": [
    {
     "data": {
      "text/plain": [
       "object_type\n",
       "Bakery        21.773852\n",
       "Bar           40.259740\n",
       "Cafe          25.917293\n",
       "Fast Food     38.089256\n",
       "Pizza         25.529412\n",
       "Restaurant    44.856021\n",
       "Name: number, dtype: float64"
      ]
     },
     "execution_count": 168,
     "metadata": {},
     "output_type": "execute_result"
    }
   ],
   "source": [
    "chain_seats_by_type = df[df['chain'] == True].groupby('object_type')['number'].mean()\n",
    "\n",
    "chain_seats_by_type"
   ]
  },
  {
   "cell_type": "markdown",
   "metadata": {},
   "source": [
    "Los restaurantes nuevamente lideran, esta vez con la cantidad de sillas. Se ilustrará la información de la tabla con un gráfico de barras usando la librería seaborn."
   ]
  },
  {
   "cell_type": "code",
   "execution_count": 169,
   "metadata": {},
   "outputs": [
    {
     "data": {
      "image/png": "[encoded data removed]",
      "text/plain": [
       "<Figure size 576x432 with 1 Axes>"
      ]
     },
     "metadata": {},
     "output_type": "display_data"
    }
   ],
   "source": [
    "chain_seats_by_type = chain_seats_by_type.sort_values(ascending=False)\n",
    "\n",
    "colors = sns.color_palette('viridis', len(chain_seats_by_type))\n",
    "\n",
    "plt.figure(figsize=(8, 6))\n",
    "sns.barplot(x=chain_seats_by_type.index, y=chain_seats_by_type.values, palette=colors)\n",
    "plt.title(\"Promedio de asientos para cadenas según tipo (Ordenado)\")\n",
    "plt.xlabel(\"Tipo de Establecimiento\")\n",
    "plt.ylabel(\"Promedio de Asientos\")\n",
    "\n",
    "plt.xticks(rotation=45)\n",
    "\n",
    "plt.show()"
   ]
  },
  {
   "cell_type": "markdown",
   "metadata": {},
   "source": [
    "Los tres tipos de establecimientos con más asientos son los restaurantes, los bares y los locales de comida rápida, con más de 30 en promedio para cada uno."
   ]
  },
  {
   "cell_type": "markdown",
   "metadata": {},
   "source": [
    "## Análisis de calles"
   ]
  },
  {
   "cell_type": "markdown",
   "metadata": {},
   "source": [
    "Ahora, el foco estará puesto en la ubicación greográfica de los restaurantes. En primer lugar, del datraframe original se dividirá la información de la columna address en dos: el número de la calle quedará almacenado en la columna address_number, mientras que el nombre quedará en la columna address_name. Dicha información se extraerá de la columna address, mediante, el método str.extract()."
   ]
  },
  {
   "cell_type": "code",
   "execution_count": 170,
   "metadata": {},
   "outputs": [
    {
     "data": {
      "text/html": [
       "<div>\n",
       "<style scoped>\n",
       "    .dataframe tbody tr th:only-of-type {\n",
       "        vertical-align: middle;\n",
       "    }\n",
       "\n",
       "    .dataframe tbody tr th {\n",
       "        vertical-align: top;\n",
       "    }\n",
       "\n",
       "    .dataframe thead th {\n",
       "        text-align: right;\n",
       "    }\n",
       "</style>\n",
       "<table border=\"1\" class=\"dataframe\">\n",
       "  <thead>\n",
       "    <tr style=\"text-align: right;\">\n",
       "      <th></th>\n",
       "      <th>id</th>\n",
       "      <th>object_name</th>\n",
       "      <th>address</th>\n",
       "      <th>chain</th>\n",
       "      <th>object_type</th>\n",
       "      <th>number</th>\n",
       "      <th>address_number</th>\n",
       "      <th>address_name</th>\n",
       "    </tr>\n",
       "  </thead>\n",
       "  <tbody>\n",
       "    <tr>\n",
       "      <th>0</th>\n",
       "      <td>11786</td>\n",
       "      <td>HABITAT COFFEE SHOP</td>\n",
       "      <td>3708 N EAGLE ROCK BLVD</td>\n",
       "      <td>False</td>\n",
       "      <td>Cafe</td>\n",
       "      <td>26</td>\n",
       "      <td>3708</td>\n",
       "      <td>N EAGLE ROCK BLVD</td>\n",
       "    </tr>\n",
       "    <tr>\n",
       "      <th>1</th>\n",
       "      <td>11787</td>\n",
       "      <td>REILLY'S</td>\n",
       "      <td>100 WORLD WAY # 120</td>\n",
       "      <td>False</td>\n",
       "      <td>Restaurant</td>\n",
       "      <td>9</td>\n",
       "      <td>100</td>\n",
       "      <td>WORLD WAY # 120</td>\n",
       "    </tr>\n",
       "    <tr>\n",
       "      <th>2</th>\n",
       "      <td>11788</td>\n",
       "      <td>STREET CHURROS</td>\n",
       "      <td>6801 HOLLYWOOD BLVD # 253</td>\n",
       "      <td>False</td>\n",
       "      <td>Fast Food</td>\n",
       "      <td>20</td>\n",
       "      <td>6801</td>\n",
       "      <td>HOLLYWOOD BLVD # 253</td>\n",
       "    </tr>\n",
       "    <tr>\n",
       "      <th>3</th>\n",
       "      <td>11789</td>\n",
       "      <td>TRINITI ECHO PARK</td>\n",
       "      <td>1814 W SUNSET BLVD</td>\n",
       "      <td>False</td>\n",
       "      <td>Restaurant</td>\n",
       "      <td>22</td>\n",
       "      <td>1814</td>\n",
       "      <td>W SUNSET BLVD</td>\n",
       "    </tr>\n",
       "    <tr>\n",
       "      <th>4</th>\n",
       "      <td>11790</td>\n",
       "      <td>POLLEN</td>\n",
       "      <td>2100 ECHO PARK AVE</td>\n",
       "      <td>False</td>\n",
       "      <td>Restaurant</td>\n",
       "      <td>20</td>\n",
       "      <td>2100</td>\n",
       "      <td>ECHO PARK AVE</td>\n",
       "    </tr>\n",
       "    <tr>\n",
       "      <th>...</th>\n",
       "      <td>...</td>\n",
       "      <td>...</td>\n",
       "      <td>...</td>\n",
       "      <td>...</td>\n",
       "      <td>...</td>\n",
       "      <td>...</td>\n",
       "      <td>...</td>\n",
       "      <td>...</td>\n",
       "    </tr>\n",
       "    <tr>\n",
       "      <th>9646</th>\n",
       "      <td>21432</td>\n",
       "      <td>HALL OF JUSTICE</td>\n",
       "      <td>217 W TEMPLE AVE</td>\n",
       "      <td>False</td>\n",
       "      <td>Restaurant</td>\n",
       "      <td>122</td>\n",
       "      <td>217</td>\n",
       "      <td>W TEMPLE AVE</td>\n",
       "    </tr>\n",
       "    <tr>\n",
       "      <th>9647</th>\n",
       "      <td>21433</td>\n",
       "      <td>FIN-MELROSE</td>\n",
       "      <td>5750 MELROSE AVE</td>\n",
       "      <td>False</td>\n",
       "      <td>Restaurant</td>\n",
       "      <td>93</td>\n",
       "      <td>5750</td>\n",
       "      <td>MELROSE AVE</td>\n",
       "    </tr>\n",
       "    <tr>\n",
       "      <th>9648</th>\n",
       "      <td>21434</td>\n",
       "      <td>JUICY WINGZ</td>\n",
       "      <td>6741 HOLLYWOOD BLVD</td>\n",
       "      <td>True</td>\n",
       "      <td>Fast Food</td>\n",
       "      <td>15</td>\n",
       "      <td>6741</td>\n",
       "      <td>HOLLYWOOD BLVD</td>\n",
       "    </tr>\n",
       "    <tr>\n",
       "      <th>9649</th>\n",
       "      <td>21435</td>\n",
       "      <td>MEDIDATE COFFEE</td>\n",
       "      <td>548 S SPRING ST STE 100</td>\n",
       "      <td>False</td>\n",
       "      <td>Cafe</td>\n",
       "      <td>6</td>\n",
       "      <td>548</td>\n",
       "      <td>S SPRING ST STE 100</td>\n",
       "    </tr>\n",
       "    <tr>\n",
       "      <th>9650</th>\n",
       "      <td>21436</td>\n",
       "      <td>CAFE SPROUTS</td>\n",
       "      <td>1300 S SAN PEDRO ST STE 111</td>\n",
       "      <td>True</td>\n",
       "      <td>Restaurant</td>\n",
       "      <td>19</td>\n",
       "      <td>1300</td>\n",
       "      <td>S SAN PEDRO ST STE 111</td>\n",
       "    </tr>\n",
       "  </tbody>\n",
       "</table>\n",
       "<p>9648 rows × 8 columns</p>\n",
       "</div>"
      ],
      "text/plain": [
       "         id          object_name                      address  chain  \\\n",
       "0     11786  HABITAT COFFEE SHOP       3708 N EAGLE ROCK BLVD  False   \n",
       "1     11787             REILLY'S          100 WORLD WAY # 120  False   \n",
       "2     11788       STREET CHURROS    6801 HOLLYWOOD BLVD # 253  False   \n",
       "3     11789    TRINITI ECHO PARK           1814 W SUNSET BLVD  False   \n",
       "4     11790               POLLEN           2100 ECHO PARK AVE  False   \n",
       "...     ...                  ...                          ...    ...   \n",
       "9646  21432      HALL OF JUSTICE             217 W TEMPLE AVE  False   \n",
       "9647  21433          FIN-MELROSE             5750 MELROSE AVE  False   \n",
       "9648  21434          JUICY WINGZ          6741 HOLLYWOOD BLVD   True   \n",
       "9649  21435      MEDIDATE COFFEE      548 S SPRING ST STE 100  False   \n",
       "9650  21436         CAFE SPROUTS  1300 S SAN PEDRO ST STE 111   True   \n",
       "\n",
       "     object_type  number address_number            address_name  \n",
       "0           Cafe      26           3708       N EAGLE ROCK BLVD  \n",
       "1     Restaurant       9            100         WORLD WAY # 120  \n",
       "2      Fast Food      20           6801    HOLLYWOOD BLVD # 253  \n",
       "3     Restaurant      22           1814           W SUNSET BLVD  \n",
       "4     Restaurant      20           2100           ECHO PARK AVE  \n",
       "...          ...     ...            ...                     ...  \n",
       "9646  Restaurant     122            217            W TEMPLE AVE  \n",
       "9647  Restaurant      93           5750             MELROSE AVE  \n",
       "9648   Fast Food      15           6741          HOLLYWOOD BLVD  \n",
       "9649        Cafe       6            548     S SPRING ST STE 100  \n",
       "9650  Restaurant      19           1300  S SAN PEDRO ST STE 111  \n",
       "\n",
       "[9648 rows x 8 columns]"
      ]
     },
     "execution_count": 170,
     "metadata": {},
     "output_type": "execute_result"
    }
   ],
   "source": [
    "df[['address_number', 'address_name']] = df['address'].str.extract(r'^(\\d+)\\s(.+)$')\n",
    "df"
   ]
  },
  {
   "cell_type": "markdown",
   "metadata": {},
   "source": [
    "Ahora, se buscará cuáles son las calles con un mayor número de restaurantes, agrupando los restaurantes según su dirección con el método group.by() y luego informando dicha información de forma descendente mediante el método sort_values()"
   ]
  },
  {
   "cell_type": "code",
   "execution_count": 172,
   "metadata": {},
   "outputs": [
    {
     "data": {
      "text/plain": [
       "address_name\n",
       "W PICO BLVD               218\n",
       "W SUNSET BLVD             217\n",
       "HOLLYWOOD BLVD            136\n",
       "WILSHIRE BLVD             131\n",
       "W 3RD ST                  119\n",
       "                         ... \n",
       "S ARDMORE AVE STE 105       1\n",
       "S ARDMORE AVE STE 100       1\n",
       "S ARDMORE AVE STE #200      1\n",
       "S ARDMORE AVE #100          1\n",
       "hollywood BLVD              1\n",
       "Name: object_type, Length: 2494, dtype: int64"
      ]
     },
     "execution_count": 172,
     "metadata": {},
     "output_type": "execute_result"
    }
   ],
   "source": [
    "street_restaurant_counts = df[df['object_type'] == 'Restaurant'].groupby('address_name')['object_type'].count()\n",
    "\n",
    "street_restaurant_counts = street_restaurant_counts.sort_values(ascending=False)\n",
    "\n",
    "street_restaurant_counts"
   ]
  },
  {
   "cell_type": "markdown",
   "metadata": {},
   "source": [
    "La calle más popular es West Pico Boulevard, con 218 restaurantes."
   ]
  },
  {
   "cell_type": "markdown",
   "metadata": {},
   "source": [
    "### Las diez calles más populares según número de restaurantes"
   ]
  },
  {
   "cell_type": "markdown",
   "metadata": {},
   "source": [
    "Se seleccionarán las 10 calles con más restaurantes y se visualizarán en un gráfico de barras."
   ]
  },
  {
   "cell_type": "code",
   "execution_count": 175,
   "metadata": {},
   "outputs": [
    {
     "data": {
      "text/plain": [
       "address_name\n",
       "W PICO BLVD          218\n",
       "W SUNSET BLVD        217\n",
       "HOLLYWOOD BLVD       136\n",
       "WILSHIRE BLVD        131\n",
       "W 3RD ST             119\n",
       "S VERMONT AVE        107\n",
       "SANTA MONICA BLVD    107\n",
       "W OLYMPIC BLVD       107\n",
       "MELROSE AVE          106\n",
       "BEVERLY BLVD         103\n",
       "Name: object_type, dtype: int64"
      ]
     },
     "execution_count": 175,
     "metadata": {},
     "output_type": "execute_result"
    }
   ],
   "source": [
    "top_10_streets = street_restaurant_counts.head(10)\n",
    "top_10_streets"
   ]
  },
  {
   "cell_type": "code",
   "execution_count": 185,
   "metadata": {},
   "outputs": [
    {
     "data": {
      "image/png": "[encoded data removed]",
      "text/plain": [
       "<Figure size 720x432 with 1 Axes>"
      ]
     },
     "metadata": {},
     "output_type": "display_data"
    }
   ],
   "source": [
    "top_10_streets.sort_values(ascending=False)\n",
    "\n",
    "plt.figure(figsize=(10, 6))\n",
    "sns.barplot(x=top_10_streets.values, y=top_10_streets.index, palette='viridis')\n",
    "plt.xlabel('Number of Restaurants')\n",
    "plt.ylabel('Street Name')\n",
    "plt.title('Las 10 calles con más restaurantes')\n",
    "\n",
    "plt.show()"
   ]
  },
  {
   "cell_type": "markdown",
   "metadata": {},
   "source": [
    "Tanto la calle West Pico Boulevard como West Sunset Boulevard superan los 200 restaurantes. El resto de las calles: Hollywood Boulevard, Wilshire Boulevard, West Third Street, South Vermont Avenue, Santa Monica Boulevard, West Olympic Boulevard, Melrose Avenue y Beverly Boulevard están en el ranto de entre 150 a 100 restaurantes, de mayor a menor."
   ]
  },
  {
   "cell_type": "markdown",
   "metadata": {},
   "source": [
    "Ahora se averiguará qué calles tienen solo un restaurante usando una expresión lógica."
   ]
  },
  {
   "cell_type": "code",
   "execution_count": 178,
   "metadata": {},
   "outputs": [
    {
     "data": {
      "text/plain": [
       "address_name\n",
       "W 3RD ST # 108            1\n",
       "S VERMONT AVE STE 109     1\n",
       "W 6TH ST # 11             1\n",
       "S WESTERN AVE # B         1\n",
       "W 3RD ST # 10-21          1\n",
       "                         ..\n",
       "S ARDMORE AVE STE 105     1\n",
       "S ARDMORE AVE STE 100     1\n",
       "S ARDMORE AVE STE #200    1\n",
       "S ARDMORE AVE #100        1\n",
       "hollywood BLVD            1\n",
       "Name: object_type, Length: 1990, dtype: int64"
      ]
     },
     "execution_count": 178,
     "metadata": {},
     "output_type": "execute_result"
    }
   ],
   "source": [
    "streets_with_one_restaurant = street_restaurant_counts[street_restaurant_counts == 1]\n",
    "streets_with_one_restaurant"
   ]
  },
  {
   "cell_type": "code",
   "execution_count": 179,
   "metadata": {},
   "outputs": [
    {
     "data": {
      "text/plain": [
       "1990"
      ]
     },
     "execution_count": 179,
     "metadata": {},
     "output_type": "execute_result"
    }
   ],
   "source": [
    "total_streets_with_one_restaurant = street_restaurant_counts[street_restaurant_counts == 1].sum()\n",
    "total_streets_with_one_restaurant "
   ]
  },
  {
   "cell_type": "markdown",
   "metadata": {},
   "source": [
    "Del dataframe con el que se está trabajando, 1990 calles solo tienen un restaurante. "
   ]
  },
  {
   "cell_type": "markdown",
   "metadata": {},
   "source": [
    "### Calles con muchos restaurantes"
   ]
  },
  {
   "cell_type": "markdown",
   "metadata": {},
   "source": [
    "Dada la gran dispersión de los datos, con calles con solo un restaurante y otras con más de 200, se buscará cuál es el promedio de restaurantes por calle."
   ]
  },
  {
   "cell_type": "code",
   "execution_count": 181,
   "metadata": {},
   "outputs": [
    {
     "data": {
      "text/plain": [
       "2.904971932638332"
      ]
     },
     "execution_count": 181,
     "metadata": {},
     "output_type": "execute_result"
    }
   ],
   "source": [
    "street_restaurant_counts = df[df['object_type'] == 'Restaurant'].groupby('address_name')['object_type'].count()\n",
    "\n",
    "avg_restaurants_per_street = street_restaurant_counts.mean()\n",
    "\n",
    "avg_restaurants_per_street"
   ]
  },
  {
   "cell_type": "markdown",
   "metadata": {},
   "source": [
    "El promedio de restaurantes por calle es dos, por lo tanto, se establecerá que una calle con muchos restaurantes equivaldrá a una calle co más de 10 restaurantes. A continuación se separará dicho dataframe."
   ]
  },
  {
   "cell_type": "code",
   "execution_count": 182,
   "metadata": {},
   "outputs": [
    {
     "data": {
      "text/html": [
       "<div>\n",
       "<style scoped>\n",
       "    .dataframe tbody tr th:only-of-type {\n",
       "        vertical-align: middle;\n",
       "    }\n",
       "\n",
       "    .dataframe tbody tr th {\n",
       "        vertical-align: top;\n",
       "    }\n",
       "\n",
       "    .dataframe thead th {\n",
       "        text-align: right;\n",
       "    }\n",
       "</style>\n",
       "<table border=\"1\" class=\"dataframe\">\n",
       "  <thead>\n",
       "    <tr style=\"text-align: right;\">\n",
       "      <th></th>\n",
       "      <th>id</th>\n",
       "      <th>object_name</th>\n",
       "      <th>address</th>\n",
       "      <th>chain</th>\n",
       "      <th>object_type</th>\n",
       "      <th>number</th>\n",
       "      <th>address_number</th>\n",
       "      <th>address_name</th>\n",
       "    </tr>\n",
       "  </thead>\n",
       "  <tbody>\n",
       "    <tr>\n",
       "      <th>3</th>\n",
       "      <td>11789</td>\n",
       "      <td>TRINITI ECHO PARK</td>\n",
       "      <td>1814 W SUNSET BLVD</td>\n",
       "      <td>False</td>\n",
       "      <td>Restaurant</td>\n",
       "      <td>22</td>\n",
       "      <td>1814</td>\n",
       "      <td>W SUNSET BLVD</td>\n",
       "    </tr>\n",
       "    <tr>\n",
       "      <th>10</th>\n",
       "      <td>11796</td>\n",
       "      <td>EL POLLO LOCO</td>\n",
       "      <td>5319 W SUNSET BLVD</td>\n",
       "      <td>True</td>\n",
       "      <td>Restaurant</td>\n",
       "      <td>38</td>\n",
       "      <td>5319</td>\n",
       "      <td>W SUNSET BLVD</td>\n",
       "    </tr>\n",
       "    <tr>\n",
       "      <th>16</th>\n",
       "      <td>11802</td>\n",
       "      <td>HMS BOUNTY</td>\n",
       "      <td>3357 WILSHIRE BLVD</td>\n",
       "      <td>False</td>\n",
       "      <td>Restaurant</td>\n",
       "      <td>147</td>\n",
       "      <td>3357</td>\n",
       "      <td>WILSHIRE BLVD</td>\n",
       "    </tr>\n",
       "    <tr>\n",
       "      <th>18</th>\n",
       "      <td>11804</td>\n",
       "      <td>MURAKAMI</td>\n",
       "      <td>7160 MELROSE AVE</td>\n",
       "      <td>False</td>\n",
       "      <td>Restaurant</td>\n",
       "      <td>139</td>\n",
       "      <td>7160</td>\n",
       "      <td>MELROSE AVE</td>\n",
       "    </tr>\n",
       "    <tr>\n",
       "      <th>22</th>\n",
       "      <td>11808</td>\n",
       "      <td>CAMY'S GRILL</td>\n",
       "      <td>3339 WILSHIRE BLVD</td>\n",
       "      <td>False</td>\n",
       "      <td>Restaurant</td>\n",
       "      <td>39</td>\n",
       "      <td>3339</td>\n",
       "      <td>WILSHIRE BLVD</td>\n",
       "    </tr>\n",
       "    <tr>\n",
       "      <th>...</th>\n",
       "      <td>...</td>\n",
       "      <td>...</td>\n",
       "      <td>...</td>\n",
       "      <td>...</td>\n",
       "      <td>...</td>\n",
       "      <td>...</td>\n",
       "      <td>...</td>\n",
       "      <td>...</td>\n",
       "    </tr>\n",
       "    <tr>\n",
       "      <th>9625</th>\n",
       "      <td>21411</td>\n",
       "      <td>EAT THIS CAFE</td>\n",
       "      <td>6545 SANTA MONICA BLVD</td>\n",
       "      <td>False</td>\n",
       "      <td>Restaurant</td>\n",
       "      <td>41</td>\n",
       "      <td>6545</td>\n",
       "      <td>SANTA MONICA BLVD</td>\n",
       "    </tr>\n",
       "    <tr>\n",
       "      <th>9628</th>\n",
       "      <td>21414</td>\n",
       "      <td>KIFF KAFE</td>\n",
       "      <td>12217 W PICO BLVD</td>\n",
       "      <td>False</td>\n",
       "      <td>Restaurant</td>\n",
       "      <td>29</td>\n",
       "      <td>12217</td>\n",
       "      <td>W PICO BLVD</td>\n",
       "    </tr>\n",
       "    <tr>\n",
       "      <th>9630</th>\n",
       "      <td>21416</td>\n",
       "      <td>SALVATORE'S ON MELROSE</td>\n",
       "      <td>7356 MELROSE AVE</td>\n",
       "      <td>False</td>\n",
       "      <td>Restaurant</td>\n",
       "      <td>101</td>\n",
       "      <td>7356</td>\n",
       "      <td>MELROSE AVE</td>\n",
       "    </tr>\n",
       "    <tr>\n",
       "      <th>9647</th>\n",
       "      <td>21433</td>\n",
       "      <td>FIN-MELROSE</td>\n",
       "      <td>5750 MELROSE AVE</td>\n",
       "      <td>False</td>\n",
       "      <td>Restaurant</td>\n",
       "      <td>93</td>\n",
       "      <td>5750</td>\n",
       "      <td>MELROSE AVE</td>\n",
       "    </tr>\n",
       "    <tr>\n",
       "      <th>9648</th>\n",
       "      <td>21434</td>\n",
       "      <td>JUICY WINGZ</td>\n",
       "      <td>6741 HOLLYWOOD BLVD</td>\n",
       "      <td>True</td>\n",
       "      <td>Fast Food</td>\n",
       "      <td>15</td>\n",
       "      <td>6741</td>\n",
       "      <td>HOLLYWOOD BLVD</td>\n",
       "    </tr>\n",
       "  </tbody>\n",
       "</table>\n",
       "<p>1738 rows × 8 columns</p>\n",
       "</div>"
      ],
      "text/plain": [
       "         id             object_name                 address  chain  \\\n",
       "3     11789       TRINITI ECHO PARK      1814 W SUNSET BLVD  False   \n",
       "10    11796           EL POLLO LOCO      5319 W SUNSET BLVD   True   \n",
       "16    11802              HMS BOUNTY      3357 WILSHIRE BLVD  False   \n",
       "18    11804                MURAKAMI        7160 MELROSE AVE  False   \n",
       "22    11808            CAMY'S GRILL      3339 WILSHIRE BLVD  False   \n",
       "...     ...                     ...                     ...    ...   \n",
       "9625  21411           EAT THIS CAFE  6545 SANTA MONICA BLVD  False   \n",
       "9628  21414               KIFF KAFE       12217 W PICO BLVD  False   \n",
       "9630  21416  SALVATORE'S ON MELROSE        7356 MELROSE AVE  False   \n",
       "9647  21433             FIN-MELROSE        5750 MELROSE AVE  False   \n",
       "9648  21434             JUICY WINGZ     6741 HOLLYWOOD BLVD   True   \n",
       "\n",
       "     object_type  number address_number       address_name  \n",
       "3     Restaurant      22           1814      W SUNSET BLVD  \n",
       "10    Restaurant      38           5319      W SUNSET BLVD  \n",
       "16    Restaurant     147           3357      WILSHIRE BLVD  \n",
       "18    Restaurant     139           7160        MELROSE AVE  \n",
       "22    Restaurant      39           3339      WILSHIRE BLVD  \n",
       "...          ...     ...            ...                ...  \n",
       "9625  Restaurant      41           6545  SANTA MONICA BLVD  \n",
       "9628  Restaurant      29          12217        W PICO BLVD  \n",
       "9630  Restaurant     101           7356        MELROSE AVE  \n",
       "9647  Restaurant      93           5750        MELROSE AVE  \n",
       "9648   Fast Food      15           6741     HOLLYWOOD BLVD  \n",
       "\n",
       "[1738 rows x 8 columns]"
      ]
     },
     "execution_count": 182,
     "metadata": {},
     "output_type": "execute_result"
    }
   ],
   "source": [
    "streets_with_more_than_10 = street_restaurant_counts[street_restaurant_counts > 100]\n",
    "\n",
    "filtered_df = df[df['address_name'].isin(streets_with_more_than_10.index)]\n",
    "\n",
    "filtered_df"
   ]
  },
  {
   "cell_type": "markdown",
   "metadata": {},
   "source": [
    "### Promedio de asientos por restaurante en las calles más populares"
   ]
  },
  {
   "cell_type": "markdown",
   "metadata": {},
   "source": [
    "A continuación se averiguará cuántos asientos tienen en promedio los restaurantes en las calles que fueron identificadas como las más populares según el número de restaurantes."
   ]
  },
  {
   "cell_type": "code",
   "execution_count": 183,
   "metadata": {},
   "outputs": [
    {
     "data": {
      "text/plain": [
       "address_name\n",
       "WILSHIRE BLVD        62.130435\n",
       "W OLYMPIC BLVD       57.887097\n",
       "HOLLYWOOD BLVD       53.730539\n",
       "MELROSE AVE          52.429688\n",
       "W SUNSET BLVD        50.918919\n",
       "S VERMONT AVE        45.878378\n",
       "BEVERLY BLVD         44.770370\n",
       "W 3RD ST             43.931034\n",
       "W PICO BLVD          40.878472\n",
       "SANTA MONICA BLVD    32.390411\n",
       "Name: number, dtype: float64"
      ]
     },
     "execution_count": 183,
     "metadata": {},
     "output_type": "execute_result"
    }
   ],
   "source": [
    "average_seats_per_restaurant = filtered_df.groupby('address_name')['number'].mean().sort_values(ascending=False)\n",
    "\n",
    "average_seats_per_restaurant"
   ]
  },
  {
   "cell_type": "markdown",
   "metadata": {},
   "source": [
    "La calle cuyos restaurantes tienen más asientos en promedio es Wilshire Boulevard, con 62.13 asientos. A continuación, se graficará la información anterior con un gráfico de barras."
   ]
  },
  {
   "cell_type": "code",
   "execution_count": 186,
   "metadata": {},
   "outputs": [
    {
     "data": {
      "image/png": "[encoded data removed]",
      "text/plain": [
       "<Figure size 720x432 with 1 Axes>"
      ]
     },
     "metadata": {},
     "output_type": "display_data"
    }
   ],
   "source": [
    "average_seats_per_restaurant = filtered_df.groupby('address_name')['number'].mean().reset_index()\n",
    "average_seats_per_restaurant = average_seats_per_restaurant.sort_values(by='number', ascending=False)  \n",
    "\n",
    "plt.figure(figsize=(10, 6))\n",
    "sns.barplot(x='number', y='address_name', data=average_seats_per_restaurant, palette='viridis')\n",
    "plt.xlabel('Average Seats per Restaurant')\n",
    "plt.ylabel('Street Name')\n",
    "plt.title('Promedio de asientos por restaurante en el top 10 de calles')\n",
    "\n",
    "plt.show()"
   ]
  },
  {
   "cell_type": "markdown",
   "metadata": {},
   "source": [
    "Se observa como la calle Wilshire Boulevard lidera en cuanto al promedio de asientos por restaurantes, con más de 60 en promedio, seguida por West Olympic Boulevard, Hollywood Boulevard, Melrose Avenue y West Sunset Boulevard que tienen más de 50 asientos en promedio. La calle con menos asientos en promedio es Santa Monica Boulevard, con más de 30 asientos en promedio."
   ]
  },
  {
   "cell_type": "markdown",
   "metadata": {},
   "source": [
    "# 5. Conclusiones"
   ]
  },
  {
   "cell_type": "markdown",
   "metadata": {},
   "source": [
    "- Los Angeles tiene una industria de la restauración dominada por los restaurantes, donde ellos representan el 75% de la industria, mientras que los cafés solo acaparan un 4.5% de esta.\n",
    "- Un 38.1% de los establecimientos de restauración forman parte de cadenas. \n",
    "- Dentro de las cadenas, un 7.2% de ellas son cadenas de café.\n",
    "- Los cafés de dichas cadenas suelen tener un promedio de 26 asientos.\n",
    "- Respecto a calles populares en términos de restaurantes, West Pico Boulevard es la calle con más restaurantes, mientras que la calle con más asientos en promedio por restaurante es Wilshire Boulevard.\n",
    "- Como recomendaciones, considerando el tipo de establecimiento (café), la novedad del servicio (meseros robotizados) y las condiciones actuales del mercado, se puede recomendar que para abrir el café, es necesario buscar un lugar con espacio suficiente para por lo menos poner el promedio de 26 asientos, y debería estar localizado en cualquiera de las calles del top 10 con más restaurantes ya que son calles establecidas como zonas de restauración, lo que atraerá a nuevos clientes por la posición geográfica tan estratégica. Sin embargo, no se recomienda comenzar como una cadena ya que los costos del proyecto son muy altos al buscar establecerse con un amplio espacio dentro de calles tan populares. Sin embargo, es algo que se puede volver a evaluar en el tiempo en función de los resultados que esté entregando esta nueva empresa."
   ]
  }
 ],
 "metadata": {
  "kernelspec": {
   "display_name": "Python 3 (ipykernel)",
   "language": "python",
   "name": "python3"
  },
  "language_info": {
   "codemirror_mode": {
    "name": "ipython",
    "version": 3
   },
   "file_extension": ".py",
   "mimetype": "text/x-python",
   "name": "python",
   "nbconvert_exporter": "python",
   "pygments_lexer": "ipython3",
   "version": "3.9.5"
  },
  "toc": {
   "base_numbering": 1,
   "nav_menu": {},
   "number_sections": true,
   "sideBar": true,
   "skip_h1_title": true,
   "title_cell": "Table of Contents",
   "title_sidebar": "Contents",
   "toc_cell": false,
   "toc_position": {},
   "toc_section_display": true,
   "toc_window_display": false
  }
 },
 "nbformat": 4,
 "nbformat_minor": 2
}
